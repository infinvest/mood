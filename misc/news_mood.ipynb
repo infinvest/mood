{
 "cells": [
  {
   "cell_type": "code",
   "execution_count": null,
   "metadata": {},
   "outputs": [],
   "source": []
  },
  {
   "cell_type": "markdown",
   "metadata": {},
   "source": [
    "# Analyzing data"
   ]
  },
  {
   "cell_type": "code",
   "execution_count": 10,
   "metadata": {},
   "outputs": [
    {
     "data": {
      "text/plain": [
       "285"
      ]
     },
     "execution_count": 10,
     "metadata": {},
     "output_type": "execute_result"
    }
   ],
   "source": [
    "import dol \n",
    "\n",
    "s = dol.JsonFiles('/Users/thorwhalen/Dropbox/_odata/finance/mood/news/searches')\n",
    "len(s)"
   ]
  },
  {
   "cell_type": "code",
   "execution_count": 13,
   "metadata": {},
   "outputs": [
    {
     "name": "stdout",
     "output_type": "stream",
     "text": [
      "headlines.shape=(92, 66)\n"
     ]
    },
    {
     "data": {
      "text/plain": [
       "0     Exclusive-Ukraine bets on US LNG as gas import...\n",
       "1     Alibaba Releases AI Model That Reads Emotions ...\n",
       "2     German Yield Nears 3% Milestone on Historic Pi...\n",
       "3     Bolivia’s New State Gold Trader Eyes $1 Billio...\n",
       "4     Jackson Square Aviation orders 50 A320neo fami...\n",
       "                            ...                        \n",
       "61                                                 None\n",
       "62                                                 None\n",
       "63                                                 None\n",
       "64                                                 None\n",
       "65                                                 None\n",
       "Name: 0, Length: 66, dtype: object"
      ]
     },
     "execution_count": 13,
     "metadata": {},
     "output_type": "execute_result"
    }
   ],
   "source": [
    "import pandas as pd \n",
    "\n",
    "\n",
    "headlines_store = dol.JsonFiles('/Users/thorwhalen/Dropbox/_odata/finance/mood/news/searches/yahoo_finance_headlines')\n",
    "headlines = pd.DataFrame(headlines_store.values())\n",
    "print(f\"{headlines.shape=}\")\n",
    "headlines.iloc[0]"
   ]
  },
  {
   "cell_type": "code",
   "execution_count": 15,
   "metadata": {},
   "outputs": [
    {
     "name": "stdout",
     "output_type": "stream",
     "text": [
      "newsdata.shape=(96, 0)\n"
     ]
    },
    {
     "data": {
      "text/plain": [
       "Series([], Name: 0, dtype: float64)"
      ]
     },
     "execution_count": 15,
     "metadata": {},
     "output_type": "execute_result"
    }
   ],
   "source": [
    "newsdata_store = dol.JsonFiles('/Users/thorwhalen/Dropbox/_odata/finance/mood/news/searches/newsdata')\n",
    "newsdata = pd.DataFrame(newsdata_store.values())\n",
    "print(f\"{newsdata.shape=}\")\n",
    "newsdata.iloc[0]"
   ]
  },
  {
   "cell_type": "code",
   "execution_count": 16,
   "metadata": {},
   "outputs": [
    {
     "data": {
      "text/plain": [
       "['2025-03-12/2025-03-12--12-00-20____data_financial_news_search_words_json.json',\n",
       " '2025-03-12/2025-03-12--06-00-17____data_financial_news_search_words_json.json',\n",
       " '2025-03-12/2025-03-12--00-00-38____data_financial_news_search_words_json.json',\n",
       " '2025-02-25/2025-02-25--18-00-22____data_inancial_news_search_words_json.json',\n",
       " '2025-02-25/2025-02-25--00-00-50____data_inancial_news_search_words_json.json',\n",
       " '2025-02-25/2025-02-25--12-00-23____data_inancial_news_search_words_json.json',\n",
       " '2025-02-25/2025-02-25--06-00-19____data_inancial_news_search_words_json.json',\n",
       " '2025-02-22/2025-02-22--18-00-18____data_inancial_news_search_words_json.json',\n",
       " '2025-02-22/2025-02-22--06-00-22____data_inancial_news_search_words_json.json',\n",
       " '2025-02-22/2025-02-22--12-00-23____data_inancial_news_search_words_json.json',\n",
       " '2025-02-22/2025-02-22--00-00-49____data_inancial_news_search_words_json.json',\n",
       " '2025-02-23/2025-02-23--18-00-20____data_inancial_news_search_words_json.json',\n",
       " '2025-02-23/2025-02-23--06-00-22____data_inancial_news_search_words_json.json',\n",
       " '2025-02-23/2025-02-23--12-00-25____data_inancial_news_search_words_json.json',\n",
       " '2025-02-23/2025-02-23--00-00-47____data_inancial_news_search_words_json.json',\n",
       " '2025-02-24/2025-02-24--00-00-47____data_inancial_news_search_words_json.json',\n",
       " '2025-02-24/2025-02-24--06-00-23____data_inancial_news_search_words_json.json',\n",
       " '2025-02-24/2025-02-24--18-00-23____data_inancial_news_search_words_json.json',\n",
       " '2025-02-24/2025-02-24--12-00-26____data_inancial_news_search_words_json.json',\n",
       " '2025-03-09/2025-03-09--18-00-13____data_financial_news_search_words_json.json',\n",
       " '2025-03-09/2025-03-09--12-00-20____data_financial_news_search_words_json.json',\n",
       " '2025-03-09/2025-03-09--06-00-16____data_financial_news_search_words_json.json',\n",
       " '2025-03-09/2025-03-09--00-00-35____data_financial_news_search_words_json.json',\n",
       " '2025-03-07/2025-03-07--12-00-19____data_financial_news_search_words_json.json',\n",
       " '2025-03-07/2025-03-07--00-00-37____data_financial_news_search_words_json.json',\n",
       " '2025-03-07/2025-03-07--18-00-16____data_financial_news_search_words_json.json',\n",
       " '2025-03-07/2025-03-07--06-00-19____data_financial_news_search_words_json.json',\n",
       " '2025-03-06/2025-03-06--12-00-20____data_financial_news_search_words_json.json',\n",
       " '2025-03-06/2025-03-06--18-00-16____data_financial_news_search_words_json.json',\n",
       " '2025-03-06/2025-03-06--06-00-18____data_financial_news_search_words_json.json',\n",
       " '2025-03-06/2025-03-06--00-00-41____data_financial_news_search_words_json.json',\n",
       " '2025-03-01/2025-03-01--12-00-24____data_financial_news_search_words_json.json',\n",
       " '2025-03-01/2025-03-01--06-00-22____data_financial_news_search_words_json.json',\n",
       " '2025-03-01/2025-03-01--00-00-48____data_financial_news_search_words_json.json',\n",
       " '2025-03-01/2025-03-01--18-00-22____data_financial_news_search_words_json.json',\n",
       " '2025-03-08/2025-03-08--18-00-16____data_financial_news_search_words_json.json',\n",
       " '2025-03-08/2025-03-08--06-00-17____data_financial_news_search_words_json.json',\n",
       " '2025-03-08/2025-03-08--12-00-20____data_financial_news_search_words_json.json',\n",
       " '2025-03-08/2025-03-08--00-00-40____data_financial_news_search_words_json.json',\n",
       " '2025-03-11/2025-03-11--18-00-16____data_financial_news_search_words_json.json',\n",
       " '2025-03-11/2025-03-11--06-00-18____data_financial_news_search_words_json.json',\n",
       " '2025-03-11/2025-03-11--12-00-23____data_financial_news_search_words_json.json',\n",
       " '2025-03-11/2025-03-11--00-00-38____data_financial_news_search_words_json.json',\n",
       " '2025-03-10/2025-03-10--06-00-18____data_financial_news_search_words_json.json',\n",
       " '2025-03-10/2025-03-10--12-00-19____data_financial_news_search_words_json.json',\n",
       " '2025-03-10/2025-03-10--18-00-15____data_financial_news_search_words_json.json',\n",
       " '2025-03-10/2025-03-10--00-00-41____data_financial_news_search_words_json.json',\n",
       " '2025-02-21/2025-02-21--18-00-23____data_inancial_news_search_words_json.json',\n",
       " '2025-02-21/2025-02-21--06-00-21____data_inancial_news_search_words_json.json',\n",
       " '2025-02-21/2025-02-21--12-00-24____data_inancial_news_search_words_json.json',\n",
       " '2025-02-21/2025-02-21--00-00-46____data_inancial_news_search_words_json.json',\n",
       " '2025-02-19/2025-02-19--18-00-24____data_inancial_news_search_words_json.json',\n",
       " '2025-02-19/2025-02-19--16-21-03____data_inancial_news_search_words_json.json',\n",
       " '2025-02-19/2025-02-19--16-39-06____data_inancial_news_search_words_json.json',\n",
       " '2025-02-19/2025-02-19--16-23-04____data_inancial_news_search_words_json.json',\n",
       " '2025-02-19/2025-02-19--16-22-04____data_inancial_news_search_words_json.json',\n",
       " '2025-02-19/2025-02-19--16-49-05____data_inancial_news_search_words_json.json',\n",
       " '2025-02-19/2025-02-19--16-38-07____data_inancial_news_search_words_json.json',\n",
       " '2025-02-19/2025-02-19--16-26-05____data_inancial_news_search_words_json.json',\n",
       " '2025-02-19/2025-02-19--16-48-04____data_inancial_news_search_words_json.json',\n",
       " '2025-02-19/2025-02-19--16-24-05____data_inancial_news_search_words_json.json',\n",
       " '2025-02-19/2025-02-19--16-28-39____data_inancial_news_search_words_json.json',\n",
       " '2025-02-19/2025-02-19--16-25-08____data_inancial_news_search_words_json.json',\n",
       " '2025-02-19/2025-02-19--16-40-05____data_inancial_news_search_words_json.json',\n",
       " '2025-02-26/2025-02-26--00-00-46____data_inancial_news_search_words_json.json',\n",
       " '2025-02-26/2025-02-26--18-00-23____data_inancial_news_search_words_json.json',\n",
       " '2025-02-26/2025-02-26--12-00-28____data_inancial_news_search_words_json.json',\n",
       " '2025-02-26/2025-02-26--06-00-18____data_inancial_news_search_words_json.json',\n",
       " '2025-02-28/2025-02-28--18-01-23____data_financial_news_search_words_json.json',\n",
       " '2025-02-28/2025-02-28--12-00-24____data_financial_news_search_words_json.json',\n",
       " '2025-02-28/2025-02-28--06-00-18____data_financial_news_search_words_json.json',\n",
       " '2025-02-28/2025-02-28--00-00-44____data_financial_news_search_words_json.json',\n",
       " '2025-02-27/2025-02-27--18-00-20____data_financial_news_search_words_json.json',\n",
       " '2025-02-27/2025-02-27--12-02-52____data_financial_news_search_words_json.json',\n",
       " '2025-02-27/2025-02-27--00-00-43____data_inancial_news_search_words_json.json',\n",
       " '2025-02-27/2025-02-27--06-00-22____data_inancial_news_search_words_json.json',\n",
       " '2025-02-20/2025-02-20--12-00-24____data_inancial_news_search_words_json.json',\n",
       " '2025-02-20/2025-02-20--00-00-43____data_inancial_news_search_words_json.json',\n",
       " '2025-02-20/2025-02-20--06-00-24____data_inancial_news_search_words_json.json',\n",
       " '2025-02-20/2025-02-20--18-00-20____data_inancial_news_search_words_json.json',\n",
       " '2025-03-04/2025-03-04--06-00-16____data_financial_news_search_words_json.json',\n",
       " '2025-03-04/2025-03-04--12-00-21____data_financial_news_search_words_json.json',\n",
       " '2025-03-04/2025-03-04--18-00-17____data_financial_news_search_words_json.json',\n",
       " '2025-03-04/2025-03-04--00-00-31____data_financial_news_search_words_json.json',\n",
       " '2025-03-03/2025-03-03--00-30-40____data_financial_news_search_words_json.json',\n",
       " '2025-03-03/2025-03-03--18-00-09____data_financial_news_search_words_json.json',\n",
       " '2025-03-03/2025-03-03--06-00-20____data_financial_news_search_words_json.json',\n",
       " '2025-03-03/2025-03-03--12-00-16____data_financial_news_search_words_json.json',\n",
       " '2025-03-02/2025-03-02--12-00-19____data_financial_news_search_words_json.json',\n",
       " '2025-03-02/2025-03-02--00-00-50____data_financial_news_search_words_json.json',\n",
       " '2025-03-02/2025-03-02--06-00-22____data_financial_news_search_words_json.json',\n",
       " '2025-03-02/2025-03-02--18-00-16____data_financial_news_search_words_json.json',\n",
       " '2025-03-05/2025-03-05--12-00-20____data_financial_news_search_words_json.json',\n",
       " '2025-03-05/2025-03-05--00-00-34____data_financial_news_search_words_json.json',\n",
       " '2025-03-05/2025-03-05--06-00-18____data_financial_news_search_words_json.json',\n",
       " '2025-03-05/2025-03-05--18-32-22____data_financial_news_search_words_json.json']"
      ]
     },
     "execution_count": 16,
     "metadata": {},
     "output_type": "execute_result"
    }
   ],
   "source": [
    "list(newsdata_store)"
   ]
  },
  {
   "cell_type": "code",
   "execution_count": null,
   "metadata": {},
   "outputs": [],
   "source": [
    "from mood.tools import search_and_save_news, DFLT_STORE; t = search_and_save_news('APPL', source='newsdata'); print(DFLT_STORE); print(t);"
   ]
  },
  {
   "cell_type": "code",
   "execution_count": 27,
   "metadata": {},
   "outputs": [
    {
     "data": {
      "text/plain": [
       "['yahoo_finance_headlines/2025-02-19/2025-02-19--09-52-32__.json',\n",
       " 'newsdata/2025-03-12/2025-03-12--18-26-25__APPL.json']"
      ]
     },
     "execution_count": 27,
     "metadata": {},
     "output_type": "execute_result"
    }
   ],
   "source": [
    "s = dol.Files(DFLT_STORE)\n",
    "list(s)"
   ]
  },
  {
   "cell_type": "code",
   "execution_count": 28,
   "metadata": {},
   "outputs": [
    {
     "data": {
      "text/plain": [
       "'/Users/thorwhalen/.config/mood/news/searches'"
      ]
     },
     "execution_count": 28,
     "metadata": {},
     "output_type": "execute_result"
    }
   ],
   "source": [
    "DFLT_STORE"
   ]
  },
  {
   "cell_type": "code",
   "execution_count": null,
   "metadata": {},
   "outputs": [],
   "source": []
  },
  {
   "cell_type": "code",
   "execution_count": null,
   "metadata": {},
   "outputs": [
    {
     "data": {
      "text/plain": [
       "'/Users/thorwhalen/Dropbox/py/proj/misc/infinvest/mood/misc'"
      ]
     },
     "execution_count": 23,
     "metadata": {},
     "output_type": "execute_result"
    }
   ],
   "source": []
  },
  {
   "cell_type": "markdown",
   "metadata": {},
   "source": [
    "# Updating the local data with server data"
   ]
  },
  {
   "cell_type": "code",
   "execution_count": 3,
   "metadata": {},
   "outputs": [
    {
     "data": {
      "text/plain": [
       "['newsdata/', 'yahoo_finance_headlines/', 'yahoo_finance/']"
      ]
     },
     "execution_count": 3,
     "metadata": {},
     "output_type": "execute_result"
    }
   ],
   "source": [
    "from sshdol import SshFiles\n",
    "import dol \n",
    "\n",
    "src_rootdir = '/root/.config/mood/news/searches'\n",
    "src = SshFiles('thorwhalen', rootdir=src_rootdir)\n",
    "list(src)\n"
   ]
  },
  {
   "cell_type": "code",
   "execution_count": 4,
   "metadata": {},
   "outputs": [
    {
     "data": {
      "text/plain": [
       "['2025-03-03/',\n",
       " '2025-03-02/',\n",
       " '2025-02-20/',\n",
       " '2025-03-01/',\n",
       " '2025-02-19/',\n",
       " '2025-02-25/',\n",
       " '2025-03-12/',\n",
       " '2025-03-04/',\n",
       " '2025-03-11/',\n",
       " '2025-03-05/',\n",
       " '2025-03-08/',\n",
       " '2025-03-07/',\n",
       " '2025-03-09/',\n",
       " '2025-03-06/',\n",
       " '2025-02-24/',\n",
       " '2025-02-26/',\n",
       " '2025-02-21/',\n",
       " '2025-02-28/',\n",
       " '2025-02-27/',\n",
       " '2025-03-10/',\n",
       " '2025-02-22/',\n",
       " '2025-02-23/']"
      ]
     },
     "execution_count": 4,
     "metadata": {},
     "output_type": "execute_result"
    }
   ],
   "source": [
    "s = src['yahoo_finance_headlines/']\n",
    "list(s)"
   ]
  },
  {
   "cell_type": "code",
   "execution_count": null,
   "metadata": {},
   "outputs": [
    {
     "data": {
      "text/plain": [
       "'2025-03-12/'"
      ]
     },
     "execution_count": 7,
     "metadata": {},
     "output_type": "execute_result"
    }
   ],
   "source": [
    "# a function that gives me, from a list of strings in the form\n",
    "# '2020-01-01', '2020-01-02', etc, the one that corresponds to \n",
    "# today's UTC date\n",
    "\n",
    "def today_utc_date_str():\n",
    "    import datetime\n",
    "    today = datetime.datetime.now().date()\n",
    "    return str(today)\n",
    "\n",
    "def todays_date_folder(dates):\n",
    "    today_date_folder = today_utc_date_str() + '/'\n",
    "    if today_date_folder in dates:\n",
    "        return [today_date_folder]\n",
    "    else:\n",
    "        return []\n",
    "\n",
    "def update_missing_date_folders(src: dict, target: dict):\n",
    "    src_keys = set(src)\n",
    "    # remove today's date folder from the target keys (if it's there)\n",
    "    # since the day is not over, there may be additional data\n",
    "    target_keys = set(target) - set([today_utc_date_str + '/']) \n",
    "    missing_keys = sorted(src_keys - target_keys)\n",
    "    \n",
    "    for missing_key in missing_keys:\n",
    "        target[missing_key].update(src[missing_key])\n",
    "\n",
    "\n",
    "    "
   ]
  },
  {
   "cell_type": "code",
   "execution_count": null,
   "metadata": {},
   "outputs": [],
   "source": []
  },
  {
   "cell_type": "code",
   "execution_count": null,
   "metadata": {},
   "outputs": [],
   "source": []
  },
  {
   "cell_type": "code",
   "execution_count": null,
   "metadata": {},
   "outputs": [],
   "source": []
  }
 ],
 "metadata": {
  "kernelspec": {
   "display_name": "p10",
   "language": "python",
   "name": "python3"
  },
  "language_info": {
   "codemirror_mode": {
    "name": "ipython",
    "version": 3
   },
   "file_extension": ".py",
   "mimetype": "text/x-python",
   "name": "python",
   "nbconvert_exporter": "python",
   "pygments_lexer": "ipython3",
   "version": "3.10.13"
  }
 },
 "nbformat": 4,
 "nbformat_minor": 2
}
