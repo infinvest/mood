{
 "cells": [
  {
   "cell_type": "code",
   "execution_count": null,
   "metadata": {},
   "outputs": [],
   "source": []
  },
  {
   "cell_type": "markdown",
   "metadata": {},
   "source": [
    "# Analyzing data"
   ]
  },
  {
   "cell_type": "code",
   "execution_count": 10,
   "metadata": {},
   "outputs": [
    {
     "data": {
      "text/plain": [
       "285"
      ]
     },
     "execution_count": 10,
     "metadata": {},
     "output_type": "execute_result"
    }
   ],
   "source": [
    "import dol \n",
    "\n",
    "s = dol.JsonFiles('/Users/thorwhalen/Dropbox/_odata/finance/mood/news/searches')\n",
    "len(s)"
   ]
  },
  {
   "cell_type": "code",
   "execution_count": 13,
   "metadata": {},
   "outputs": [
    {
     "name": "stdout",
     "output_type": "stream",
     "text": [
      "headlines.shape=(92, 66)\n"
     ]
    },
    {
     "data": {
      "text/plain": [
       "0     Exclusive-Ukraine bets on US LNG as gas import...\n",
       "1     Alibaba Releases AI Model That Reads Emotions ...\n",
       "2     German Yield Nears 3% Milestone on Historic Pi...\n",
       "3     Bolivia’s New State Gold Trader Eyes $1 Billio...\n",
       "4     Jackson Square Aviation orders 50 A320neo fami...\n",
       "                            ...                        \n",
       "61                                                 None\n",
       "62                                                 None\n",
       "63                                                 None\n",
       "64                                                 None\n",
       "65                                                 None\n",
       "Name: 0, Length: 66, dtype: object"
      ]
     },
     "execution_count": 13,
     "metadata": {},
     "output_type": "execute_result"
    }
   ],
   "source": [
    "import pandas as pd \n",
    "\n",
    "\n",
    "headlines_store = dol.JsonFiles('/Users/thorwhalen/Dropbox/_odata/finance/mood/news/searches/yahoo_finance_headlines')\n",
    "headlines = pd.DataFrame(headlines_store.values())\n",
    "print(f\"{headlines.shape=}\")\n",
    "headlines.iloc[0]"
   ]
  },
  {
   "cell_type": "code",
   "execution_count": 15,
   "metadata": {},
   "outputs": [
    {
     "name": "stdout",
     "output_type": "stream",
     "text": [
      "newsdata.shape=(96, 0)\n"
     ]
    },
    {
     "data": {
      "text/plain": [
       "Series([], Name: 0, dtype: float64)"
      ]
     },
     "execution_count": 15,
     "metadata": {},
     "output_type": "execute_result"
    }
   ],
   "source": [
    "newsdata_store = dol.JsonFiles('/Users/thorwhalen/Dropbox/_odata/finance/mood/news/searches/newsdata')\n",
    "newsdata = pd.DataFrame(newsdata_store.values())\n",
    "print(f\"{newsdata.shape=}\")\n",
    "newsdata.iloc[0]"
   ]
  },
  {
   "cell_type": "code",
   "execution_count": 16,
   "metadata": {},
   "outputs": [
    {
     "data": {
      "text/plain": [
       "['2025-03-12/2025-03-12--12-00-20____data_financial_news_search_words_json.json',\n",
       " '2025-03-12/2025-03-12--06-00-17____data_financial_news_search_words_json.json',\n",
       " '2025-03-12/2025-03-12--00-00-38____data_financial_news_search_words_json.json',\n",
       " '2025-02-25/2025-02-25--18-00-22____data_inancial_news_search_words_json.json',\n",
       " '2025-02-25/2025-02-25--00-00-50____data_inancial_news_search_words_json.json',\n",
       " '2025-02-25/2025-02-25--12-00-23____data_inancial_news_search_words_json.json',\n",
       " '2025-02-25/2025-02-25--06-00-19____data_inancial_news_search_words_json.json',\n",
       " '2025-02-22/2025-02-22--18-00-18____data_inancial_news_search_words_json.json',\n",
       " '2025-02-22/2025-02-22--06-00-22____data_inancial_news_search_words_json.json',\n",
       " '2025-02-22/2025-02-22--12-00-23____data_inancial_news_search_words_json.json',\n",
       " '2025-02-22/2025-02-22--00-00-49____data_inancial_news_search_words_json.json',\n",
       " '2025-02-23/2025-02-23--18-00-20____data_inancial_news_search_words_json.json',\n",
       " '2025-02-23/2025-02-23--06-00-22____data_inancial_news_search_words_json.json',\n",
       " '2025-02-23/2025-02-23--12-00-25____data_inancial_news_search_words_json.json',\n",
       " '2025-02-23/2025-02-23--00-00-47____data_inancial_news_search_words_json.json',\n",
       " '2025-02-24/2025-02-24--00-00-47____data_inancial_news_search_words_json.json',\n",
       " '2025-02-24/2025-02-24--06-00-23____data_inancial_news_search_words_json.json',\n",
       " '2025-02-24/2025-02-24--18-00-23____data_inancial_news_search_words_json.json',\n",
       " '2025-02-24/2025-02-24--12-00-26____data_inancial_news_search_words_json.json',\n",
       " '2025-03-09/2025-03-09--18-00-13____data_financial_news_search_words_json.json',\n",
       " '2025-03-09/2025-03-09--12-00-20____data_financial_news_search_words_json.json',\n",
       " '2025-03-09/2025-03-09--06-00-16____data_financial_news_search_words_json.json',\n",
       " '2025-03-09/2025-03-09--00-00-35____data_financial_news_search_words_json.json',\n",
       " '2025-03-07/2025-03-07--12-00-19____data_financial_news_search_words_json.json',\n",
       " '2025-03-07/2025-03-07--00-00-37____data_financial_news_search_words_json.json',\n",
       " '2025-03-07/2025-03-07--18-00-16____data_financial_news_search_words_json.json',\n",
       " '2025-03-07/2025-03-07--06-00-19____data_financial_news_search_words_json.json',\n",
       " '2025-03-06/2025-03-06--12-00-20____data_financial_news_search_words_json.json',\n",
       " '2025-03-06/2025-03-06--18-00-16____data_financial_news_search_words_json.json',\n",
       " '2025-03-06/2025-03-06--06-00-18____data_financial_news_search_words_json.json',\n",
       " '2025-03-06/2025-03-06--00-00-41____data_financial_news_search_words_json.json',\n",
       " '2025-03-01/2025-03-01--12-00-24____data_financial_news_search_words_json.json',\n",
       " '2025-03-01/2025-03-01--06-00-22____data_financial_news_search_words_json.json',\n",
       " '2025-03-01/2025-03-01--00-00-48____data_financial_news_search_words_json.json',\n",
       " '2025-03-01/2025-03-01--18-00-22____data_financial_news_search_words_json.json',\n",
       " '2025-03-08/2025-03-08--18-00-16____data_financial_news_search_words_json.json',\n",
       " '2025-03-08/2025-03-08--06-00-17____data_financial_news_search_words_json.json',\n",
       " '2025-03-08/2025-03-08--12-00-20____data_financial_news_search_words_json.json',\n",
       " '2025-03-08/2025-03-08--00-00-40____data_financial_news_search_words_json.json',\n",
       " '2025-03-11/2025-03-11--18-00-16____data_financial_news_search_words_json.json',\n",
       " '2025-03-11/2025-03-11--06-00-18____data_financial_news_search_words_json.json',\n",
       " '2025-03-11/2025-03-11--12-00-23____data_financial_news_search_words_json.json',\n",
       " '2025-03-11/2025-03-11--00-00-38____data_financial_news_search_words_json.json',\n",
       " '2025-03-10/2025-03-10--06-00-18____data_financial_news_search_words_json.json',\n",
       " '2025-03-10/2025-03-10--12-00-19____data_financial_news_search_words_json.json',\n",
       " '2025-03-10/2025-03-10--18-00-15____data_financial_news_search_words_json.json',\n",
       " '2025-03-10/2025-03-10--00-00-41____data_financial_news_search_words_json.json',\n",
       " '2025-02-21/2025-02-21--18-00-23____data_inancial_news_search_words_json.json',\n",
       " '2025-02-21/2025-02-21--06-00-21____data_inancial_news_search_words_json.json',\n",
       " '2025-02-21/2025-02-21--12-00-24____data_inancial_news_search_words_json.json',\n",
       " '2025-02-21/2025-02-21--00-00-46____data_inancial_news_search_words_json.json',\n",
       " '2025-02-19/2025-02-19--18-00-24____data_inancial_news_search_words_json.json',\n",
       " '2025-02-19/2025-02-19--16-21-03____data_inancial_news_search_words_json.json',\n",
       " '2025-02-19/2025-02-19--16-39-06____data_inancial_news_search_words_json.json',\n",
       " '2025-02-19/2025-02-19--16-23-04____data_inancial_news_search_words_json.json',\n",
       " '2025-02-19/2025-02-19--16-22-04____data_inancial_news_search_words_json.json',\n",
       " '2025-02-19/2025-02-19--16-49-05____data_inancial_news_search_words_json.json',\n",
       " '2025-02-19/2025-02-19--16-38-07____data_inancial_news_search_words_json.json',\n",
       " '2025-02-19/2025-02-19--16-26-05____data_inancial_news_search_words_json.json',\n",
       " '2025-02-19/2025-02-19--16-48-04____data_inancial_news_search_words_json.json',\n",
       " '2025-02-19/2025-02-19--16-24-05____data_inancial_news_search_words_json.json',\n",
       " '2025-02-19/2025-02-19--16-28-39____data_inancial_news_search_words_json.json',\n",
       " '2025-02-19/2025-02-19--16-25-08____data_inancial_news_search_words_json.json',\n",
       " '2025-02-19/2025-02-19--16-40-05____data_inancial_news_search_words_json.json',\n",
       " '2025-02-26/2025-02-26--00-00-46____data_inancial_news_search_words_json.json',\n",
       " '2025-02-26/2025-02-26--18-00-23____data_inancial_news_search_words_json.json',\n",
       " '2025-02-26/2025-02-26--12-00-28____data_inancial_news_search_words_json.json',\n",
       " '2025-02-26/2025-02-26--06-00-18____data_inancial_news_search_words_json.json',\n",
       " '2025-02-28/2025-02-28--18-01-23____data_financial_news_search_words_json.json',\n",
       " '2025-02-28/2025-02-28--12-00-24____data_financial_news_search_words_json.json',\n",
       " '2025-02-28/2025-02-28--06-00-18____data_financial_news_search_words_json.json',\n",
       " '2025-02-28/2025-02-28--00-00-44____data_financial_news_search_words_json.json',\n",
       " '2025-02-27/2025-02-27--18-00-20____data_financial_news_search_words_json.json',\n",
       " '2025-02-27/2025-02-27--12-02-52____data_financial_news_search_words_json.json',\n",
       " '2025-02-27/2025-02-27--00-00-43____data_inancial_news_search_words_json.json',\n",
       " '2025-02-27/2025-02-27--06-00-22____data_inancial_news_search_words_json.json',\n",
       " '2025-02-20/2025-02-20--12-00-24____data_inancial_news_search_words_json.json',\n",
       " '2025-02-20/2025-02-20--00-00-43____data_inancial_news_search_words_json.json',\n",
       " '2025-02-20/2025-02-20--06-00-24____data_inancial_news_search_words_json.json',\n",
       " '2025-02-20/2025-02-20--18-00-20____data_inancial_news_search_words_json.json',\n",
       " '2025-03-04/2025-03-04--06-00-16____data_financial_news_search_words_json.json',\n",
       " '2025-03-04/2025-03-04--12-00-21____data_financial_news_search_words_json.json',\n",
       " '2025-03-04/2025-03-04--18-00-17____data_financial_news_search_words_json.json',\n",
       " '2025-03-04/2025-03-04--00-00-31____data_financial_news_search_words_json.json',\n",
       " '2025-03-03/2025-03-03--00-30-40____data_financial_news_search_words_json.json',\n",
       " '2025-03-03/2025-03-03--18-00-09____data_financial_news_search_words_json.json',\n",
       " '2025-03-03/2025-03-03--06-00-20____data_financial_news_search_words_json.json',\n",
       " '2025-03-03/2025-03-03--12-00-16____data_financial_news_search_words_json.json',\n",
       " '2025-03-02/2025-03-02--12-00-19____data_financial_news_search_words_json.json',\n",
       " '2025-03-02/2025-03-02--00-00-50____data_financial_news_search_words_json.json',\n",
       " '2025-03-02/2025-03-02--06-00-22____data_financial_news_search_words_json.json',\n",
       " '2025-03-02/2025-03-02--18-00-16____data_financial_news_search_words_json.json',\n",
       " '2025-03-05/2025-03-05--12-00-20____data_financial_news_search_words_json.json',\n",
       " '2025-03-05/2025-03-05--00-00-34____data_financial_news_search_words_json.json',\n",
       " '2025-03-05/2025-03-05--06-00-18____data_financial_news_search_words_json.json',\n",
       " '2025-03-05/2025-03-05--18-32-22____data_financial_news_search_words_json.json']"
      ]
     },
     "execution_count": 16,
     "metadata": {},
     "output_type": "execute_result"
    }
   ],
   "source": [
    "list(newsdata_store)"
   ]
  },
  {
   "cell_type": "code",
   "execution_count": null,
   "metadata": {},
   "outputs": [],
   "source": [
    "from mood.tools import search_and_save_news, DFLT_STORE; t = search_and_save_news('APPL', source='newsdata'); print(DFLT_STORE); print(t);"
   ]
  },
  {
   "cell_type": "code",
   "execution_count": 27,
   "metadata": {},
   "outputs": [
    {
     "data": {
      "text/plain": [
       "['yahoo_finance_headlines/2025-02-19/2025-02-19--09-52-32__.json',\n",
       " 'newsdata/2025-03-12/2025-03-12--18-26-25__APPL.json']"
      ]
     },
     "execution_count": 27,
     "metadata": {},
     "output_type": "execute_result"
    }
   ],
   "source": [
    "s = dol.Files(DFLT_STORE)\n",
    "list(s)"
   ]
  },
  {
   "cell_type": "code",
   "execution_count": 28,
   "metadata": {},
   "outputs": [
    {
     "data": {
      "text/plain": [
       "'/Users/thorwhalen/.config/mood/news/searches'"
      ]
     },
     "execution_count": 28,
     "metadata": {},
     "output_type": "execute_result"
    }
   ],
   "source": [
    "DFLT_STORE"
   ]
  },
  {
   "cell_type": "code",
   "execution_count": null,
   "metadata": {},
   "outputs": [],
   "source": []
  },
  {
   "cell_type": "code",
   "execution_count": null,
   "metadata": {},
   "outputs": [
    {
     "data": {
      "text/plain": [
       "'/Users/thorwhalen/Dropbox/py/proj/misc/infinvest/mood/misc'"
      ]
     },
     "execution_count": 23,
     "metadata": {},
     "output_type": "execute_result"
    }
   ],
   "source": []
  },
  {
   "cell_type": "markdown",
   "metadata": {},
   "source": [
    "# Updating the local data with server data"
   ]
  },
  {
   "cell_type": "code",
   "execution_count": 2,
   "metadata": {},
   "outputs": [],
   "source": [
    "from xdol import update_with_policy\n",
    "from xdol.updating import KeyDecision\n",
    "\n",
    "\n",
    "def today_utc_date_str():\n",
    "    import datetime\n",
    "\n",
    "    today = datetime.datetime.now().date()\n",
    "    return str(today)\n",
    "\n",
    "\n",
    "def update_missing_or_today(target, source, *, keys_to_consider=None, verbose=True):\n",
    "    \"\"\"\n",
    "    Update target with source, but only for keys that are missing in target or\n",
    "    that contain today's date.\n",
    "    \"\"\"\n",
    "    today = today_utc_date_str()\n",
    "\n",
    "    def _missing_or_today_decider(key, target_info, source_info) -> KeyDecision:\n",
    "        if source_info is None:\n",
    "            return \"SKIP\"\n",
    "        elif target_info is None or today in str(key):\n",
    "            return \"COPY\"\n",
    "\n",
    "        return \"SKIP\"\n",
    "\n",
    "    return update_with_policy(\n",
    "        target,\n",
    "        source,\n",
    "        policy=_missing_or_today_decider,\n",
    "        keys_to_consider=keys_to_consider,\n",
    "        verbose=verbose,\n",
    "    )"
   ]
  },
  {
   "cell_type": "code",
   "execution_count": 3,
   "metadata": {},
   "outputs": [],
   "source": [
    "from sshdol import SshFiles\n",
    "import dol \n",
    "\n",
    "src_rootdir = '/root/.config/mood/news/searches'\n",
    "src = SshFiles('thorwhalen', rootdir=src_rootdir, max_levels=None)\n",
    "\n",
    "target_rootdir = '/Users/thorwhalen/Dropbox/_odata/finance/mood/news/searches'\n",
    "target = dol.Files(target_rootdir)"
   ]
  },
  {
   "cell_type": "code",
   "execution_count": 4,
   "metadata": {},
   "outputs": [
    {
     "name": "stdout",
     "output_type": "stream",
     "text": [
      "yahoo_finance_headlines/2025-02-19/: COPY\n"
     ]
    },
    {
     "ename": "KeyError",
     "evalue": "\"[Errno 21] Is a directory: '/Users/thorwhalen/Dropbox/_odata/finance/mood/news/searches/yahoo_finance_headlines/2025-02-19/'\"",
     "output_type": "error",
     "traceback": [
      "\u001b[0;31m---------------------------------------------------------------------------\u001b[0m",
      "\u001b[0;31mIsADirectoryError\u001b[0m                         Traceback (most recent call last)",
      "File \u001b[0;32m~/Dropbox/py/proj/i/dol/dol/filesys.py:276\u001b[0m, in \u001b[0;36mvalidate_key_and_raise_key_error_on_exception.<locals>.wrapped_method\u001b[0;34m(self, k, *args, **kwargs)\u001b[0m\n\u001b[1;32m    275\u001b[0m \u001b[38;5;28;01mtry\u001b[39;00m:\n\u001b[0;32m--> 276\u001b[0m     \u001b[38;5;28;01mreturn\u001b[39;00m \u001b[43mfunc\u001b[49m\u001b[43m(\u001b[49m\u001b[38;5;28;43mself\u001b[39;49m\u001b[43m,\u001b[49m\u001b[43m \u001b[49m\u001b[43mk\u001b[49m\u001b[43m,\u001b[49m\u001b[43m \u001b[49m\u001b[38;5;241;43m*\u001b[39;49m\u001b[43margs\u001b[49m\u001b[43m,\u001b[49m\u001b[43m \u001b[49m\u001b[38;5;241;43m*\u001b[39;49m\u001b[38;5;241;43m*\u001b[39;49m\u001b[43mkwargs\u001b[49m\u001b[43m)\u001b[49m\n\u001b[1;32m    277\u001b[0m \u001b[38;5;28;01mexcept\u001b[39;00m \u001b[38;5;167;01mException\u001b[39;00m \u001b[38;5;28;01mas\u001b[39;00m e:\n",
      "File \u001b[0;32m~/Dropbox/py/proj/i/dol/dol/filesys.py:508\u001b[0m, in \u001b[0;36mFileBytesPersister.__setitem__\u001b[0;34m(self, k, v)\u001b[0m\n\u001b[1;32m    502\u001b[0m \u001b[38;5;129m@validate_key_and_raise_key_error_on_exception\u001b[39m\n\u001b[1;32m    503\u001b[0m \u001b[38;5;28;01mdef\u001b[39;00m \u001b[38;5;21m__setitem__\u001b[39m(\u001b[38;5;28mself\u001b[39m, k, v):\n\u001b[1;32m    504\u001b[0m     \u001b[38;5;66;03m# TODO: Make this work with validate_key_and_raise_key_error_on_exception\u001b[39;00m\n\u001b[1;32m    505\u001b[0m     \u001b[38;5;66;03m# if self._make_dirs_if_missing:\u001b[39;00m\n\u001b[1;32m    506\u001b[0m     \u001b[38;5;66;03m#     dirname = os.path.dirname(k)\u001b[39;00m\n\u001b[1;32m    507\u001b[0m     \u001b[38;5;66;03m#     os.makedirs(dirname, exist_ok=True)\u001b[39;00m\n\u001b[0;32m--> 508\u001b[0m     \u001b[38;5;28;01mwith\u001b[39;00m \u001b[38;5;28;43mopen\u001b[39;49m\u001b[43m(\u001b[49m\u001b[43mk\u001b[49m\u001b[43m,\u001b[49m\u001b[43m \u001b[49m\u001b[38;5;241;43m*\u001b[39;49m\u001b[38;5;241;43m*\u001b[39;49m\u001b[38;5;28;43mself\u001b[39;49m\u001b[38;5;241;43m.\u001b[39;49m\u001b[43m_write_open_kwargs\u001b[49m\u001b[43m)\u001b[49m \u001b[38;5;28;01mas\u001b[39;00m fp:\n\u001b[1;32m    509\u001b[0m         \u001b[38;5;28;01mreturn\u001b[39;00m fp\u001b[38;5;241m.\u001b[39mwrite(v)\n",
      "\u001b[0;31mIsADirectoryError\u001b[0m: [Errno 21] Is a directory: '/Users/thorwhalen/Dropbox/_odata/finance/mood/news/searches/yahoo_finance_headlines/2025-02-19/'",
      "\nDuring handling of the above exception, another exception occurred:\n",
      "\u001b[0;31mKeyError\u001b[0m                                  Traceback (most recent call last)",
      "Cell \u001b[0;32mIn[4], line 1\u001b[0m\n\u001b[0;32m----> 1\u001b[0m \u001b[43mupdate_missing_or_today\u001b[49m\u001b[43m(\u001b[49m\u001b[43mtarget\u001b[49m\u001b[43m,\u001b[49m\u001b[43m \u001b[49m\u001b[43msrc\u001b[49m\u001b[43m,\u001b[49m\u001b[43m \u001b[49m\u001b[43mverbose\u001b[49m\u001b[38;5;241;43m=\u001b[39;49m\u001b[38;5;28;43;01mTrue\u001b[39;49;00m\u001b[43m)\u001b[49m\n",
      "Cell \u001b[0;32mIn[2], line 27\u001b[0m, in \u001b[0;36mupdate_missing_or_today\u001b[0;34m(target, source, keys_to_consider, verbose)\u001b[0m\n\u001b[1;32m     23\u001b[0m         \u001b[38;5;28;01mreturn\u001b[39;00m \u001b[38;5;124m\"\u001b[39m\u001b[38;5;124mCOPY\u001b[39m\u001b[38;5;124m\"\u001b[39m\n\u001b[1;32m     25\u001b[0m     \u001b[38;5;28;01mreturn\u001b[39;00m \u001b[38;5;124m\"\u001b[39m\u001b[38;5;124mSKIP\u001b[39m\u001b[38;5;124m\"\u001b[39m\n\u001b[0;32m---> 27\u001b[0m \u001b[38;5;28;01mreturn\u001b[39;00m \u001b[43mupdate_with_policy\u001b[49m\u001b[43m(\u001b[49m\n\u001b[1;32m     28\u001b[0m \u001b[43m    \u001b[49m\u001b[43mtarget\u001b[49m\u001b[43m,\u001b[49m\n\u001b[1;32m     29\u001b[0m \u001b[43m    \u001b[49m\u001b[43msource\u001b[49m\u001b[43m,\u001b[49m\n\u001b[1;32m     30\u001b[0m \u001b[43m    \u001b[49m\u001b[43mpolicy\u001b[49m\u001b[38;5;241;43m=\u001b[39;49m\u001b[43m_missing_or_today_decider\u001b[49m\u001b[43m,\u001b[49m\n\u001b[1;32m     31\u001b[0m \u001b[43m    \u001b[49m\u001b[43mkeys_to_consider\u001b[49m\u001b[38;5;241;43m=\u001b[39;49m\u001b[43mkeys_to_consider\u001b[49m\u001b[43m,\u001b[49m\n\u001b[1;32m     32\u001b[0m \u001b[43m    \u001b[49m\u001b[43mverbose\u001b[49m\u001b[38;5;241;43m=\u001b[39;49m\u001b[43mverbose\u001b[49m\u001b[43m,\u001b[49m\n\u001b[1;32m     33\u001b[0m \u001b[43m\u001b[49m\u001b[43m)\u001b[49m\n",
      "File \u001b[0;32m~/Dropbox/py/proj/i/xdol/xdol/updating.py:316\u001b[0m, in \u001b[0;36mupdate_with_policy\u001b[0;34m(target, source, policy, key_info, keys_to_consider, verbose)\u001b[0m\n\u001b[1;32m    314\u001b[0m         stats\u001b[38;5;241m.\u001b[39mupdated \u001b[38;5;241m+\u001b[39m\u001b[38;5;241m=\u001b[39m \u001b[38;5;241m1\u001b[39m\n\u001b[1;32m    315\u001b[0m     \u001b[38;5;28;01melse\u001b[39;00m:\n\u001b[0;32m--> 316\u001b[0m         \u001b[43mtarget\u001b[49m\u001b[43m[\u001b[49m\u001b[43mkey\u001b[49m\u001b[43m]\u001b[49m \u001b[38;5;241m=\u001b[39m source[key]\n\u001b[1;32m    317\u001b[0m         stats\u001b[38;5;241m.\u001b[39madded \u001b[38;5;241m+\u001b[39m\u001b[38;5;241m=\u001b[39m \u001b[38;5;241m1\u001b[39m\n\u001b[1;32m    318\u001b[0m \u001b[38;5;28;01melif\u001b[39;00m decision \u001b[38;5;241m==\u001b[39m KeyDecision\u001b[38;5;241m.\u001b[39mDELETE:\n",
      "File \u001b[0;32m~/Dropbox/py/proj/i/dol/dol/base.py:692\u001b[0m, in \u001b[0;36mStore.__setitem__\u001b[0;34m(self, k, v)\u001b[0m\n\u001b[1;32m    691\u001b[0m \u001b[38;5;28;01mdef\u001b[39;00m \u001b[38;5;21m__setitem__\u001b[39m(\u001b[38;5;28mself\u001b[39m, k: Key, v: Val):\n\u001b[0;32m--> 692\u001b[0m     \u001b[38;5;28;01mreturn\u001b[39;00m \u001b[38;5;28;43mself\u001b[39;49m\u001b[38;5;241;43m.\u001b[39;49m\u001b[43mstore\u001b[49m\u001b[38;5;241;43m.\u001b[39;49m\u001b[38;5;21;43m__setitem__\u001b[39;49m\u001b[43m(\u001b[49m\u001b[38;5;28;43mself\u001b[39;49m\u001b[38;5;241;43m.\u001b[39;49m\u001b[43m_id_of_key\u001b[49m\u001b[43m(\u001b[49m\u001b[43mk\u001b[49m\u001b[43m)\u001b[49m\u001b[43m,\u001b[49m\u001b[43m \u001b[49m\u001b[38;5;28;43mself\u001b[39;49m\u001b[38;5;241;43m.\u001b[39;49m\u001b[43m_data_of_obj\u001b[49m\u001b[43m(\u001b[49m\u001b[43mv\u001b[49m\u001b[43m)\u001b[49m\u001b[43m)\u001b[49m\n",
      "File \u001b[0;32m~/Dropbox/py/proj/i/dol/dol/filesys.py:278\u001b[0m, in \u001b[0;36mvalidate_key_and_raise_key_error_on_exception.<locals>.wrapped_method\u001b[0;34m(self, k, *args, **kwargs)\u001b[0m\n\u001b[1;32m    276\u001b[0m     \u001b[38;5;28;01mreturn\u001b[39;00m func(\u001b[38;5;28mself\u001b[39m, k, \u001b[38;5;241m*\u001b[39margs, \u001b[38;5;241m*\u001b[39m\u001b[38;5;241m*\u001b[39mkwargs)\n\u001b[1;32m    277\u001b[0m \u001b[38;5;28;01mexcept\u001b[39;00m \u001b[38;5;167;01mException\u001b[39;00m \u001b[38;5;28;01mas\u001b[39;00m e:\n\u001b[0;32m--> 278\u001b[0m     \u001b[38;5;28;01mraise\u001b[39;00m \u001b[38;5;167;01mKeyError\u001b[39;00m(\u001b[38;5;28mstr\u001b[39m(e))\n",
      "\u001b[0;31mKeyError\u001b[0m: \"[Errno 21] Is a directory: '/Users/thorwhalen/Dropbox/_odata/finance/mood/news/searches/yahoo_finance_headlines/2025-02-19/'\""
     ]
    }
   ],
   "source": [
    "update_missing_or_today(target, src, verbose=True)"
   ]
  },
  {
   "cell_type": "code",
   "execution_count": 12,
   "metadata": {},
   "outputs": [
    {
     "data": {
      "text/plain": [
       "['newsdata/2025-03-13/2025-03-13--14-55-34__APPL.json']"
      ]
     },
     "execution_count": 12,
     "metadata": {},
     "output_type": "execute_result"
    }
   ],
   "source": [
    "from mood.tools import search_and_save_news\n",
    "\n",
    "my_store = dict()\n",
    "t = search_and_save_news(\"~/tmp/example.json\", source=\"newsdata\", store=my_store)\n",
    "list(my_store)"
   ]
  },
  {
   "cell_type": "code",
   "execution_count": null,
   "metadata": {},
   "outputs": [
    {
     "data": {
      "text/plain": [
       "['2025-03-03/',\n",
       " '2025-03-02/',\n",
       " '2025-02-20/',\n",
       " '2025-03-01/',\n",
       " '2025-02-19/',\n",
       " '2025-02-25/',\n",
       " '2025-03-12/',\n",
       " '2025-03-04/',\n",
       " '2025-03-11/',\n",
       " '2025-03-05/',\n",
       " '2025-03-08/',\n",
       " '2025-03-07/',\n",
       " '2025-03-09/',\n",
       " '2025-03-06/',\n",
       " '2025-02-24/',\n",
       " '2025-02-26/',\n",
       " '2025-02-21/',\n",
       " '2025-02-28/',\n",
       " '2025-02-27/',\n",
       " '2025-03-10/',\n",
       " '2025-02-22/',\n",
       " '2025-02-23/']"
      ]
     },
     "execution_count": 4,
     "metadata": {},
     "output_type": "execute_result"
    }
   ],
   "source": []
  },
  {
   "cell_type": "code",
   "execution_count": null,
   "metadata": {},
   "outputs": [
    {
     "data": {
      "text/plain": [
       "'2025-03-12/'"
      ]
     },
     "execution_count": 7,
     "metadata": {},
     "output_type": "execute_result"
    }
   ],
   "source": [
    "# a function that gives me, from a list of strings in the form\n",
    "# '2020-01-01', '2020-01-02', etc, the one that corresponds to \n",
    "# today's UTC date\n",
    "\n",
    "def today_utc_date_str():\n",
    "    import datetime\n",
    "    today = datetime.datetime.now().date()\n",
    "    return str(today)\n",
    "\n",
    "def todays_date_folder(dates):\n",
    "    today_date_folder = today_utc_date_str() + '/'\n",
    "    if today_date_folder in dates:\n",
    "        return [today_date_folder]\n",
    "    else:\n",
    "        return []\n",
    "\n",
    "def update_missing_date_folders(src: dict, target: dict):\n",
    "    src_keys = set(src)\n",
    "    # remove today's date folder from the target keys (if it's there)\n",
    "    # since the day is not over, there may be additional data\n",
    "    target_keys = set(target) - set([today_utc_date_str + '/']) \n",
    "    missing_keys = sorted(src_keys - target_keys)\n",
    "    \n",
    "    for missing_key in missing_keys:\n",
    "        target[missing_key].update(src[missing_key])\n",
    "\n",
    "\n",
    "    "
   ]
  },
  {
   "cell_type": "code",
   "execution_count": null,
   "metadata": {},
   "outputs": [],
   "source": []
  },
  {
   "cell_type": "code",
   "execution_count": null,
   "metadata": {},
   "outputs": [],
   "source": []
  },
  {
   "cell_type": "code",
   "execution_count": null,
   "metadata": {},
   "outputs": [],
   "source": []
  }
 ],
 "metadata": {
  "kernelspec": {
   "display_name": "p10",
   "language": "python",
   "name": "python3"
  },
  "language_info": {
   "codemirror_mode": {
    "name": "ipython",
    "version": 3
   },
   "file_extension": ".py",
   "mimetype": "text/x-python",
   "name": "python",
   "nbconvert_exporter": "python",
   "pygments_lexer": "ipython3",
   "version": "3.10.13"
  }
 },
 "nbformat": 4,
 "nbformat_minor": 2
}
