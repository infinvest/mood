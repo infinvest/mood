{
 "cells": [
  {
   "cell_type": "code",
   "execution_count": null,
   "metadata": {},
   "outputs": [],
   "source": []
  },
  {
   "cell_type": "code",
   "execution_count": null,
   "metadata": {},
   "outputs": [],
   "source": []
  },
  {
   "cell_type": "code",
   "execution_count": null,
   "metadata": {},
   "outputs": [],
   "source": [
    "from mood import headlines_mood\n",
    "\n",
    "current_headlines_mood = headlines_mood()\n",
    "current_headlines_mood"
   ]
  },
  {
   "cell_type": "code",
   "execution_count": 8,
   "metadata": {},
   "outputs": [
    {
     "data": {
      "text/plain": [
       "{\"Yaccarino shakes up X amid Musk's pressure on costs, FT says\": -3,\n",
       " 'Coup-hit Niger was betting on a China-backed oil pipeline as a lifeline. Then the troubles began': -7,\n",
       " 'A Mexico City neighborhood keeps the iconic Volkswagen Beetle alive': 1,\n",
       " 'Bitter political fight in Bolivia is paralyzing the government as unrest boils over economic crisis': -8,\n",
       " 'Credit’s Strong Run Stumbles for First Time This Year': -4,\n",
       " 'Former Stark Chairman in Thai Detention After Months on the Run': -5,\n",
       " '2 Millionaire-Maker Technology Stocks': 5,\n",
       " 'Want to Earn More in the Stock Market With Less Effort? Try This Simple Strategy': 4,\n",
       " '3 Reasons to Buy Nvidia Stock Before June 26': 7,\n",
       " \"Cathie Wood Says Software Is the Next Big AI Opportunity -- 2 Super Stocks You'll Wish You'd Bought Today if She's Right\": 8,\n",
       " 'Companies that give money to Democrats are beating Republican donors in the stock market': 2,\n",
       " 'Is Buying Stocks When the S&P 500 Hits a New All-Time High a Smart Strategy? History Provides a Clear Answer.': 2,\n",
       " 'Q1 Design Software Earnings: Unity (NYSE:U) Earns Top Marks': 4,\n",
       " 'Social Networking Q1 Earnings: Snap (NYSE:SNAP) Simply the Best': 6,\n",
       " \"A Look Back at Footwear Stocks' Q1 Earnings: Steven Madden (NASDAQ:SHOO) Vs The Rest Of The Pack\": -1,\n",
       " \"A Look Back at Heavy Machinery Stocks' Q1 Earnings: Oshkosh (NYSE:OSK) Vs The Rest Of The Pack\": -1,\n",
       " 'Unpacking Q1 Earnings: Keurig Dr Pepper (NASDAQ:KDP) In The Context Of Other Beverages and Alcohol Stocks': -2,\n",
       " 'Q1 Earnings Outperformers: Agilysys (NASDAQ:AGYS) And The Rest Of The Vertical Software Stocks': 3,\n",
       " 'What do homebuilders want? Immigration reform': 0,\n",
       " 'Examining the steep rise in monthly auto loan payments': -2,\n",
       " 'Cannes Lions 2024: What marketers are saying': 1,\n",
       " \"Sports has to feed into a streamer's 'ecosystem': Kevin Mayer\": 0,\n",
       " 'Taylor Swift vs. Central Banks: One Swiftie calls ‘BS’': -2,\n",
       " \"'There are bargains out there' as summer travel season heats up\": 3,\n",
       " 'This week in Bidenomics: Pile on the debt': -3,\n",
       " 'Netflix flirts with all-time highs as investors cheer ad momentum, foray into live sports': 8,\n",
       " 'Existing home sales decline in May as home prices reach record high': -4,\n",
       " \"Regulators find weakness in 'living wills' from BofA, Citi, Goldman, and JPM\": -6,\n",
       " 'How to watch and listen to Yahoo Finance': 0,\n",
       " \"Why Nvidia's 'gravy train' could come to 'screeching halt' after a volatile trading week\": -7,\n",
       " 'Trump’s campaign now has a cash advantage over Biden': 1,\n",
       " 'The Anti-Altman’s Hail Mary Pitch to Investors': -3,\n",
       " \"Tesla's Autonomous Strategy to be Key to EV Maker Reaching $1 Trillion-Plus Valuation, Wedbush Says\": 7,\n",
       " 'Alaska Airlines, Flight Attendants Union Reach Tentative Deal': 6,\n",
       " 'China’s 618 online shopping event marks first-ever sales drop': -7,\n",
       " 'Apple Throws Down the Gauntlet to European Regulators': -3,\n",
       " 'Apple’s AI Features Won’t Be Offered in European Union Because of New Laws': -5,\n",
       " 'Equity Markets Mostly Lower as Existing Home Sales Drop': -4,\n",
       " 'Oil Rig Count Falls by Three This Week, Baker Hughes Says': -2,\n",
       " 'Dubai Real Estate’s Resilience May Signal End of Boom-Bust Cycle': 5,\n",
       " 'Montana aims to remind seniors about its ‘reverse annuity mortgage’': 0,\n",
       " 'Desmarais-Backed Mortgage Firm Nesto Acquires Lender CMLS': 3,\n",
       " 'Record high prices, rising mortgage rates depress US home sales': -8,\n",
       " 'US home sales fall for the 3rd straight month in May amid rising mortgage rates, record-high prices': -8,\n",
       " \"On wealthy Martha's Vineyard, costly housing is forcing workers out and threatening public safety\": -7,\n",
       " \"Mortgage rates decline for third consecutive week — 'bodes well for the housing market'\": 4,\n",
       " 'Congress should adopt mortgage interest tax credit: CHLA': 3,\n",
       " 'Savings interest rates today, June 22, 2024 (best account provides 5.30% APY)': 4,\n",
       " 'How to pay off your house faster with biweekly mortgage payments': 5,\n",
       " 'The best credit cards for vacations for June 2024': 5,\n",
       " \"Climate change makes India's monsoons erratic. Can farmers still find a way to prosper?\": -2,\n",
       " 'CDK Hackers Want Millions in Ransom to End Car Dealership Outage': -7,\n",
       " 'S&P 500 Trading Volume Spikes at Wall Street Close: Markets Wrap': 0,\n",
       " 'Bitcoin Could Hit $500,000 by October 2025, According to This Billionaire Investor': 7,\n",
       " 'This Is Why Altcoin Investors Struggle Despite Bitcoin, Ether Sitting Near Yearly Highs': -3,\n",
       " 'BitoGroup partners with Far Eastern International Bank to launch first crypto-friendly bank account': 2,\n",
       " 'Cathie Wood sells $13 million of a struggling tech stock': -6,\n",
       " 'Nvidia Stock Gets Hit With Bearish Reversal. If You Have Big Profits, This Is What You Should Do.': -5,\n",
       " \"Single Mom With $1.3 Million From Divorce Can't Afford $8,000 Monthly Rent, Dave Ramsey Says It's Time To Move\": -6,\n",
       " 'Morningstar | A Weekly Summary of Stock Ideas and Developments in the Companies We Cover': 0,\n",
       " '5 Little-Known Perks of a Costco Membership': 4,\n",
       " 'Billionaire David Tepper Goes Bargain Hunting: 6 Stocks He Just Bought': 5,\n",
       " 'Palantir Inks Deal With Starlab. Is the Stock Ready to Head to the Stars?': 6,\n",
       " \"Here's the Average Social Security Benefit at Age 62 -- and Why It's Not the Best News for Retirees\": -5,\n",
       " 'Analyst Report: Mitsubishi UFJ Financial Group, Inc.': 0,\n",
       " 'Forget NextEra Energy. Buy This Magnificent Dividend King Instead': 6}"
      ]
     },
     "execution_count": 8,
     "metadata": {},
     "output_type": "execute_result"
    }
   ],
   "source": [
    "headline_mood_on_20240623 = {\"Yaccarino shakes up X amid Musk's pressure on costs, FT says\": -3, 'Coup-hit Niger was betting on a China-backed oil pipeline as a lifeline. Then the troubles began': -7, 'A Mexico City neighborhood keeps the iconic Volkswagen Beetle alive': 1, 'Bitter political fight in Bolivia is paralyzing the government as unrest boils over economic crisis': -8, 'Credit’s Strong Run Stumbles for First Time This Year': -4, 'Former Stark Chairman in Thai Detention After Months on the Run': -5, '2 Millionaire-Maker Technology Stocks': 5, 'Want to Earn More in the Stock Market With Less Effort? Try This Simple Strategy': 4, '3 Reasons to Buy Nvidia Stock Before June 26': 7, \"Cathie Wood Says Software Is the Next Big AI Opportunity -- 2 Super Stocks You'll Wish You'd Bought Today if She's Right\": 8, 'Companies that give money to Democrats are beating Republican donors in the stock market': 2, 'Is Buying Stocks When the S&P 500 Hits a New All-Time High a Smart Strategy? History Provides a Clear Answer.': 2, 'Q1 Design Software Earnings: Unity (NYSE:U) Earns Top Marks': 4, 'Social Networking Q1 Earnings: Snap (NYSE:SNAP) Simply the Best': 6, \"A Look Back at Footwear Stocks' Q1 Earnings: Steven Madden (NASDAQ:SHOO) Vs The Rest Of The Pack\": -1, \"A Look Back at Heavy Machinery Stocks' Q1 Earnings: Oshkosh (NYSE:OSK) Vs The Rest Of The Pack\": -1, 'Unpacking Q1 Earnings: Keurig Dr Pepper (NASDAQ:KDP) In The Context Of Other Beverages and Alcohol Stocks': -2, 'Q1 Earnings Outperformers: Agilysys (NASDAQ:AGYS) And The Rest Of The Vertical Software Stocks': 3, 'What do homebuilders want? Immigration reform': 0, 'Examining the steep rise in monthly auto loan payments': -2, 'Cannes Lions 2024: What marketers are saying': 1, \"Sports has to feed into a streamer's 'ecosystem': Kevin Mayer\": 0, 'Taylor Swift vs. Central Banks: One Swiftie calls ‘BS’': -2, \"'There are bargains out there' as summer travel season heats up\": 3, 'This week in Bidenomics: Pile on the debt': -3, 'Netflix flirts with all-time highs as investors cheer ad momentum, foray into live sports': 8, 'Existing home sales decline in May as home prices reach record high': -4, \"Regulators find weakness in 'living wills' from BofA, Citi, Goldman, and JPM\": -6, 'How to watch and listen to Yahoo Finance': 0, \"Why Nvidia's 'gravy train' could come to 'screeching halt' after a volatile trading week\": -7, 'Trump’s campaign now has a cash advantage over Biden': 1, 'The Anti-Altman’s Hail Mary Pitch to Investors': -3, \"Tesla's Autonomous Strategy to be Key to EV Maker Reaching $1 Trillion-Plus Valuation, Wedbush Says\": 7, 'Alaska Airlines, Flight Attendants Union Reach Tentative Deal': 6, 'China’s 618 online shopping event marks first-ever sales drop': -7, 'Apple Throws Down the Gauntlet to European Regulators': -3, 'Apple’s AI Features Won’t Be Offered in European Union Because of New Laws': -5, 'Equity Markets Mostly Lower as Existing Home Sales Drop': -4, 'Oil Rig Count Falls by Three This Week, Baker Hughes Says': -2, 'Dubai Real Estate’s Resilience May Signal End of Boom-Bust Cycle': 5, 'Montana aims to remind seniors about its ‘reverse annuity mortgage’': 0, 'Desmarais-Backed Mortgage Firm Nesto Acquires Lender CMLS': 3, 'Record high prices, rising mortgage rates depress US home sales': -8, 'US home sales fall for the 3rd straight month in May amid rising mortgage rates, record-high prices': -8, \"On wealthy Martha's Vineyard, costly housing is forcing workers out and threatening public safety\": -7, \"Mortgage rates decline for third consecutive week — 'bodes well for the housing market'\": 4, 'Congress should adopt mortgage interest tax credit: CHLA': 3, 'Savings interest rates today, June 22, 2024 (best account provides 5.30% APY)': 4, 'How to pay off your house faster with biweekly mortgage payments': 5, 'The best credit cards for vacations for June 2024': 5, \"Climate change makes India's monsoons erratic. Can farmers still find a way to prosper?\": -2, 'CDK Hackers Want Millions in Ransom to End Car Dealership Outage': -7, 'S&P 500 Trading Volume Spikes at Wall Street Close: Markets Wrap': 0, 'Bitcoin Could Hit $500,000 by October 2025, According to This Billionaire Investor': 7, 'This Is Why Altcoin Investors Struggle Despite Bitcoin, Ether Sitting Near Yearly Highs': -3, 'BitoGroup partners with Far Eastern International Bank to launch first crypto-friendly bank account': 2, 'Cathie Wood sells $13 million of a struggling tech stock': -6, 'Nvidia Stock Gets Hit With Bearish Reversal. If You Have Big Profits, This Is What You Should Do.': -5, \"Single Mom With $1.3 Million From Divorce Can't Afford $8,000 Monthly Rent, Dave Ramsey Says It's Time To Move\": -6, 'Morningstar | A Weekly Summary of Stock Ideas and Developments in the Companies We Cover': 0, '5 Little-Known Perks of a Costco Membership': 4, 'Billionaire David Tepper Goes Bargain Hunting: 6 Stocks He Just Bought': 5, 'Palantir Inks Deal With Starlab. Is the Stock Ready to Head to the Stars?': 6, \"Here's the Average Social Security Benefit at Age 62 -- and Why It's Not the Best News for Retirees\": -5, 'Analyst Report: Mitsubishi UFJ Financial Group, Inc.': 0, 'Forget NextEra Energy. Buy This Magnificent Dividend King Instead': 6}\n",
    "headline_mood_on_20240623"
   ]
  },
  {
   "cell_type": "code",
   "execution_count": null,
   "metadata": {},
   "outputs": [],
   "source": []
  },
  {
   "cell_type": "code",
   "execution_count": null,
   "metadata": {},
   "outputs": [],
   "source": []
  },
  {
   "cell_type": "markdown",
   "metadata": {},
   "source": [
    "# Misc"
   ]
  },
  {
   "cell_type": "markdown",
   "metadata": {},
   "source": [
    "## add_egress"
   ]
  },
  {
   "cell_type": "code",
   "execution_count": 5,
   "metadata": {},
   "outputs": [],
   "source": [
    "from mood.util import add_egress  # is in i2 and other places\n",
    "\n",
    "@add_egress(str)\n",
    "def foo(x: int) -> int:\n",
    "    return x + 1\n",
    "\n",
    "assert foo(3) == '4'\n",
    "\n",
    "# to acccess the underlying function:\n",
    "underlying_foo = foo.__wrapped__\n",
    "assert underlying_foo(3) == 4\n"
   ]
  },
  {
   "cell_type": "markdown",
   "metadata": {},
   "source": [
    "## Get historical headlines"
   ]
  },
  {
   "cell_type": "code",
   "execution_count": 2,
   "metadata": {},
   "outputs": [
    {
     "name": "stdout",
     "output_type": "stream",
     "text": [
      "Failed to retrieve data\n",
      "No news data fetched.\n"
     ]
    }
   ],
   "source": [
    "import requests\n",
    "from datetime import datetime, timedelta\n",
    "import os\n",
    "\n",
    "def headlines_from_newsdata_io(start_date, end_date):\n",
    "    \"\"\"Get headlines from NewsData.io within a specified date range.\"\"\"\n",
    "    api_key = os.environ['NEWSDATA_API_KEY']\n",
    "    url = f'https://newsdata.io/api/1/news?apikey={api_key}&q=finance&from_date={start_date}&to_date={end_date}&language=en'\n",
    "\n",
    "    response = requests.get(url)\n",
    "    if response.status_code != 200:\n",
    "        print(\"Failed to retrieve data\")\n",
    "        return []\n",
    "\n",
    "    data = response.json()\n",
    "    headlines = [article['title'] for article in data.get('results', [])]\n",
    "\n",
    "    return headlines\n",
    "\n",
    "# Example usage\n",
    "start_date = '2023-01-01'\n",
    "end_date = '2023-01-31'\n",
    "news_data = headlines_from_newsdata_io(start_date, end_date)\n",
    "if news_data:\n",
    "    print(f\"Fetched {len(news_data)} news headlines from NewsData.io:\")\n",
    "    for headline in news_data:\n",
    "        print(headline)\n",
    "else:\n",
    "    print(\"No news data fetched.\")\n"
   ]
  },
  {
   "cell_type": "code",
   "execution_count": 3,
   "metadata": {},
   "outputs": [
    {
     "name": "stdout",
     "output_type": "stream",
     "text": [
      "Failed to retrieve data: 422\n",
      "{'status': 'error', 'results': {'message': \"You can't use the from_date parameter in the news endpoint.\", 'code': 'UnsupportedParameter'}}\n",
      "No news data fetched.\n"
     ]
    }
   ],
   "source": [
    "import requests\n",
    "from datetime import datetime\n",
    "\n",
    "def headlines_from_newsdata_io(api_key, start_date, end_date):\n",
    "    \"\"\"Get headlines from NewsData.io within a specified date range.\"\"\"\n",
    "    url = f'https://newsdata.io/api/1/news?apikey={api_key}&q=finance&from_date={start_date}&to_date={end_date}&language=en'\n",
    "\n",
    "    response = requests.get(url)\n",
    "    \n",
    "    if response.status_code != 200:\n",
    "        print(f\"Failed to retrieve data: {response.status_code}\")\n",
    "        print(response.json())\n",
    "        return []\n",
    "\n",
    "    data = response.json()\n",
    "    headlines = [article['title'] for article in data.get('results', [])]\n",
    "\n",
    "    if not headlines:\n",
    "        print(\"No news data found for the specified date range.\")\n",
    "        \n",
    "    return headlines\n",
    "\n",
    "# Example usage\n",
    "api_key = os.environ['NEWSDATA_API_KEY']\n",
    "start_date = '2023-01-01'\n",
    "end_date = '2023-01-31'\n",
    "news_data = headlines_from_newsdata_io(api_key, start_date, end_date)\n",
    "\n",
    "if news_data:\n",
    "    print(f\"Fetched {len(news_data)} news headlines from NewsData.io:\")\n",
    "    for headline in news_data:\n",
    "        print(headline)\n",
    "else:\n",
    "    print(\"No news data fetched.\")\n"
   ]
  },
  {
   "cell_type": "code",
   "execution_count": 5,
   "metadata": {},
   "outputs": [
    {
     "name": "stdout",
     "output_type": "stream",
     "text": [
      "Failed to retrieve data: 403\n",
      "Error details: {'status': 'error', 'results': {'message': 'Access Denied! You need to upgrade your plan in order to access the Archive endpoint.', 'code': 'AccessDenied'}}\n",
      "No news data fetched.\n"
     ]
    }
   ],
   "source": [
    "import os\n",
    "import requests\n",
    "from datetime import datetime\n",
    "\n",
    "def headlines_from_newsdata_io(api_key, start_date, end_date):\n",
    "    \"\"\"Get headlines from NewsData.io within a specified date range.\"\"\"\n",
    "    url = f'https://newsdata.io/api/1/archive?apikey={api_key}&q=finance&from_date={start_date}&to_date={end_date}&language=en'\n",
    "\n",
    "    response = requests.get(url)\n",
    "    \n",
    "    if response.status_code != 200:\n",
    "        print(f\"Failed to retrieve data: {response.status_code}\")\n",
    "        try:\n",
    "            error_data = response.json()\n",
    "            print(\"Error details:\", error_data)\n",
    "        except ValueError:\n",
    "            print(\"Response content is not valid JSON\")\n",
    "            print(response.text)\n",
    "        return []\n",
    "\n",
    "    try:\n",
    "        data = response.json()\n",
    "    except ValueError:\n",
    "        print(\"Failed to parse response JSON\")\n",
    "        return []\n",
    "\n",
    "    headlines = [article['title'] for article in data.get('results', [])]\n",
    "\n",
    "    if not headlines:\n",
    "        print(\"No news data found for the specified date range.\")\n",
    "        \n",
    "    return headlines\n",
    "\n",
    "# Example usage\n",
    "api_key = os.environ['NEWSDATA_API_KEY']\n",
    "start_date = '2023-01-01'\n",
    "end_date = '2023-01-31'\n",
    "news_data = headlines_from_newsdata_io(api_key, start_date, end_date)\n",
    "\n",
    "if news_data:\n",
    "    print(f\"Fetched {len(news_data)} news headlines from NewsData.io:\")\n",
    "    for headline in news_data:\n",
    "        print(headline)\n",
    "else:\n",
    "    print(\"No news data fetched.\")\n",
    "\n",
    "# Gives me:\n",
    "# Error details: {'status': 'error', 'results': {'message': 'Access Denied! You need to upgrade your plan in order to access the Archive endpoint.', 'code': 'AccessDenied'}}\n",
    "# \n",
    "# Need to upgrade my plan. The plan to get news Archive API is 150 USD per month. \n",
    "# https://newsdata.io/pricing\n"
   ]
  },
  {
   "cell_type": "code",
   "execution_count": null,
   "metadata": {},
   "outputs": [],
   "source": []
  }
 ],
 "metadata": {
  "kernelspec": {
   "display_name": "p10",
   "language": "python",
   "name": "python3"
  },
  "language_info": {
   "codemirror_mode": {
    "name": "ipython",
    "version": 3
   },
   "file_extension": ".py",
   "mimetype": "text/x-python",
   "name": "python",
   "nbconvert_exporter": "python",
   "pygments_lexer": "ipython3",
   "version": "3.10.13"
  }
 },
 "nbformat": 4,
 "nbformat_minor": 2
}
